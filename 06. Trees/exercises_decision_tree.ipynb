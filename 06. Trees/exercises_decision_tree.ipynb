{
 "cells": [
  {
   "cell_type": "code",
   "execution_count": null,
   "metadata": {},
   "outputs": [],
   "source": [
    "\"\"\" Reading Data \"\"\"\n",
    "import pandas as pd\n",
    "\n",
    "car_data = pd.read_csv('car.data', header=None)\n",
    "car_data.columns = ['one', 'two', 'three', 'four', 'five', 'six', 'seven']\n",
    "car_data.head()\n"
   ]
  },
  {
   "cell_type": "code",
   "execution_count": null,
   "metadata": {},
   "outputs": [],
   "source": [
    "\"\"\" Splitting the Data into X and y \"\"\"\n",
    "\n",
    "X = car_data[['one', 'two', 'three', 'four', 'five', 'six']]\n",
    "y = car_data['seven']\n",
    "\n",
    "X\n",
    "# X.dtypes\n",
    "# y.dtype"
   ]
  },
  {
   "cell_type": "code",
   "execution_count": 56,
   "metadata": {},
   "outputs": [],
   "source": [
    "\"\"\" Splitting the Data \"\"\"\n",
    "\n",
    "from sklearn.model_selection import train_test_split\n",
    "\n",
    "X_train, X_test, y_train, y_test = train_test_split(X, y, test_size=0.3)\n",
    "\n",
    "# print(len(X), len(X_train), len(X_test))\n",
    "# print(len(y), len(y_train), len(y_test))"
   ]
  },
  {
   "cell_type": "code",
   "execution_count": null,
   "metadata": {},
   "outputs": [],
   "source": [
    "\"\"\" Import the Model and Fitting the Data \"\"\" \n",
    "from sklearn.tree import DecisionTreeClassifier\n",
    "\n",
    "tree = DecisionTreeClassifier()\n",
    "tree.fit(X_train, y_train)"
   ]
  },
  {
   "cell_type": "code",
   "execution_count": null,
   "metadata": {},
   "outputs": [],
   "source": [
    "\n",
    "\"\"\" Plotting the Decision Tree\"\"\"\n",
    "from sklearn.tree import plot_tree\n",
    "import matplotlib.pyplot as plt\n",
    "plt.figure(figsize=(15, 15))\n",
    "plot_tree(dt_clf, filled=True, rounded=True, class_names=[\"Mammal\", \"Bird\", \"Reptile\", \"Fish\", \"Amphibian\", \"Bug\", \"Invertebrate\"], feature_names=X.columns)\n"
   ]
  },
  {
   "cell_type": "code",
   "execution_count": 73,
   "metadata": {},
   "outputs": [
    {
     "data": {
      "text/plain": [
       "Text(0.5, 1.0, 'A graph of the Accuracy (%) as a function of the depth of the tree')"
      ]
     },
     "execution_count": 73,
     "metadata": {},
     "output_type": "execute_result"
    },
    {
     "data": {
      "image/png": "[encoded data removed]",
      "text/plain": [
       "<Figure size 432x288 with 1 Axes>"
      ]
     },
     "metadata": {
      "needs_background": "light"
     },
     "output_type": "display_data"
    }
   ],
   "source": [
    "\"\"\" Reading Data \"\"\"\n",
    "import pandas as pd\n",
    "\n",
    "food_data = pd.read_csv('seeds.csv')\n",
    "food_data\n",
    "\n",
    "\"\"\" Splitting the Data into X and y \"\"\"\n",
    "X = food_data[['area', 'perimeter', 'compactness', 'length', 'width',\t'asymmetry_coefficient',\t'groove_length']]\n",
    "y = food_data['grain_variety']\n",
    "\n",
    "\"\"\" Splitting the Data \"\"\"\n",
    "from sklearn.model_selection import train_test_split\n",
    "X_train, X_test, y_train, y_test = train_test_split(X, y, test_size=0.3)\n",
    "\n",
    "\n",
    "from sklearn.tree import DecisionTreeClassifier\n",
    "\n",
    "\n",
    "import numpy as np \n",
    "\n",
    "number_of_depth = [ 2, 3, 4, 5, 6, 7, 8, 9, 10]\n",
    "number_of_depth = range(2, 11, 1)\n",
    "trainAccuracy   = []\n",
    "testAccuracy    = [] \n",
    "\n",
    "\n",
    "#predictAccuracy = []\n",
    "\n",
    "for number in number_of_depth:\n",
    "     \"\"\" Import the Model and Fitting the Data \"\"\" \n",
    "     tree = DecisionTreeClassifier(criterion='gini', max_depth=number)\n",
    "     tree.fit(X_train, y_train)\n",
    "     \n",
    "     #predictions = tree.predict(X_test)\n",
    "\n",
    "     \"\"\" Checking the Accuracy  \"\"\" \n",
    "     train_accuracy = tree.score(X_train, y_train)\n",
    "     test_accuracy = tree.score(X_test, y_test)\n",
    "     #predict_accuracy = tree.score(X_test, predictions)\n",
    "\n",
    "     trainAccuracy.append(train_accuracy * 100)\n",
    "     testAccuracy.append(test_accuracy * 100) \n",
    "\n",
    "import matplotlib.pyplot as plt \n",
    "plt.plot(number_of_depth, trainAccuracy)\n",
    "plt.plot(number_of_depth, testAccuracy)\n",
    "plt.xlabel('Number of Depth')\n",
    "plt.ylabel('Accuracy (%) ')\n",
    "# plt.legend('trainAccuracy', 'testAccuracy')\n",
    "plt.title('A graph of the Accuracy (%) as a function of the depth of the tree')\n",
    "\n",
    "\n",
    "\n",
    "# \"\"\" Plotting the Decision Tree\"\"\"\n",
    "# from sklearn.tree import plot_tree\n",
    "# import matplotlib.pyplot as plt\n",
    "# plt.figure(figsize=(15, 15))\n",
    "# plot_tree(tree, filled=True, rounded=True, class_names=['Kama wheat', 'Kama wheat', 'Rosa wheat', 'Canadian wheat'], feature_names=X.columns)\n"
   ]
  },
  {
   "cell_type": "code",
   "execution_count": 63,
   "metadata": {},
   "outputs": [
    {
     "name": "stdout",
     "output_type": "stream",
     "text": [
      "range(2, 10)\n"
     ]
    }
   ],
   "source": [
    "c = range(2, 10, 1)\n",
    "# for t in c:\n",
    "#      print(t)\n",
    "print(c)"
   ]
  },
  {
   "cell_type": "code",
   "execution_count": null,
   "metadata": {},
   "outputs": [],
   "source": []
  },
  {
   "cell_type": "code",
   "execution_count": null,
   "metadata": {},
   "outputs": [],
   "source": []
  }
 ],
 "metadata": {
  "interpreter": {
   "hash": "97b91b6d5003af60c654b6abfe8ac1e5d274e52e67a717d7df64331168b10d1c"
  },
  "kernelspec": {
   "display_name": "Python 3.8.12 ('pz')",
   "language": "python",
   "name": "python3"
  },
  "language_info": {
   "codemirror_mode": {
    "name": "ipython",
    "version": 3
   },
   "file_extension": ".py",
   "mimetype": "text/x-python",
   "name": "python",
   "nbconvert_exporter": "python",
   "pygments_lexer": "ipython3",
   "version": "3.8.12"
  },
  "orig_nbformat": 4
 },
 "nbformat": 4,
 "nbformat_minor": 2
}
