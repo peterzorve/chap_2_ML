{
 "cells": [
  {
   "cell_type": "markdown",
   "metadata": {},
   "source": [
    "# Exercise 11: Hierarchies of stocks\n",
    "\n",
    "Previously, you used k-means clustering to cluster companies according to their stock price movements. This time, perform _hierarchical_ clustering of the companies.  You are given a NumPy array of price movements `movements`, where the rows correspond to companies, and a list of the company names `companies`.\n",
    "\n",
    "SciPy hierarchical clustering doesn't fit into a sklearn pipeline, so you'll need to use the `normalize()` function from `sklearn.preprocessing` instead of `Normalizer`."
   ]
  },
  {
   "cell_type": "markdown",
   "metadata": {},
   "source": [
    "**Step 1:** Load the data _(written for you)_"
   ]
  },
  {
   "cell_type": "code",
   "execution_count": 18,
   "metadata": {
    "collapsed": true,
    "exercise": false
   },
   "outputs": [],
   "source": [
    "import pandas as pd\n",
    "\n",
    "fn = '../datasets/company-stock-movements-2010-2015-incl.csv'\n",
    "stocks_df = pd.read_csv(fn, index_col=0) \n",
    "\n",
    "companies = list(stocks_df.index)\n",
    "movements = stocks_df.values\n",
    "\n"
   ]
  },
  {
   "cell_type": "code",
   "execution_count": null,
   "metadata": {},
   "outputs": [],
   "source": [
    "# I inserted this cell\n",
    "stocks_df"
   ]
  },
  {
   "cell_type": "markdown",
   "metadata": {},
   "source": [
    "**Step 2:** Make the necessary imports:\n",
    "\n",
    " + `normalize` from `sklearn.preprocessing`.\n",
    " + `linkage` and `dendrogram` from `scipy.cluster.hierarchy`.\n",
    " + `matplotlib.pyplot` as `plt`."
   ]
  },
  {
   "cell_type": "code",
   "execution_count": 41,
   "metadata": {
    "collapsed": true
   },
   "outputs": [],
   "source": [
    "from sklearn.preprocessing import normalize\n",
    "from scipy.cluster.hierarchy import dendrogram, linkage\n",
    "import matplotlib.pyplot as plt\n"
   ]
  },
  {
   "cell_type": "markdown",
   "metadata": {},
   "source": [
    "**Step 3:** Rescale the price movements for each stock by using the `normalize()` function on `movements`."
   ]
  },
  {
   "cell_type": "code",
   "execution_count": 36,
   "metadata": {
    "collapsed": true
   },
   "outputs": [
    {
     "data": {
      "text/plain": [
       "array([[ 0.00302051, -0.00114574, -0.01775851, ..., -0.02791349,\n",
       "         0.00437463, -0.10202026],\n",
       "       [-0.02599391, -0.02639998, -0.00852927, ..., -0.00162466,\n",
       "        -0.01624623,  0.02680614],\n",
       "       [-0.02208986,  0.01184398, -0.02208986, ...,  0.04502568,\n",
       "        -0.01654394,  0.03515588],\n",
       "       ...,\n",
       "       [ 0.01981027,  0.01059598,  0.02626006, ..., -0.01197837,\n",
       "         0.01842816,  0.02211388],\n",
       "       [ 0.0200991 ,  0.00223323, -0.01786587, ..., -0.0066997 ,\n",
       "         0.00446647, -0.0066997 ],\n",
       "       [ 0.01796837,  0.00112314,  0.        , ..., -0.00673829,\n",
       "         0.02919855,  0.01123007]])"
      ]
     },
     "execution_count": 36,
     "metadata": {},
     "output_type": "execute_result"
    }
   ],
   "source": [
    "movements_normalized = normalize(movements)\n",
    "movements_normalized"
   ]
  },
  {
   "cell_type": "markdown",
   "metadata": {},
   "source": [
    "**Step 4:** Apply the `linkage()` function to `normalized_movements`, using `'complete'` linkage, to calculate the hierarchical clustering. Assign the result to `mergings`."
   ]
  },
  {
   "cell_type": "code",
   "execution_count": 44,
   "metadata": {
    "collapsed": true
   },
   "outputs": [
    {
     "data": {
      "text/plain": [
       "array([[ 42.        ,  49.        ,   0.58499795,   2.        ],\n",
       "       [ 12.        ,  57.        ,   0.67355098,   2.        ],\n",
       "       [  5.        ,  26.        ,   0.69371159,   2.        ],\n",
       "       [ 21.        ,  48.        ,   0.75062554,   2.        ],\n",
       "       [ 52.        ,  60.        ,   0.78536856,   3.        ],\n",
       "       [ 55.        ,  62.        ,   0.789767  ,   3.        ],\n",
       "       [ 10.        ,  61.        ,   0.798409  ,   3.        ],\n",
       "       [ 29.        ,  36.        ,   0.80409137,   2.        ],\n",
       "       [ 46.        ,  64.        ,   0.84275997,   4.        ],\n",
       "       [  7.        ,  45.        ,   0.8506084 ,   2.        ],\n",
       "       [  8.        ,  13.        ,   0.85283926,   2.        ],\n",
       "       [ 19.        ,  37.        ,   0.85471765,   2.        ],\n",
       "       [ 32.        ,  70.        ,   0.87300001,   3.        ],\n",
       "       [ 24.        ,  51.        ,   0.8766151 ,   2.        ],\n",
       "       [ 44.        ,  66.        ,   0.87947223,   4.        ],\n",
       "       [ 43.        ,  68.        ,   0.8815919 ,   5.        ],\n",
       "       [ 34.        ,  63.        ,   0.88949572,   3.        ],\n",
       "       [ 18.        ,  65.        ,   0.90608043,   4.        ],\n",
       "       [  6.        ,  71.        ,   0.91712927,   3.        ],\n",
       "       [  9.        ,  40.        ,   0.92637377,   2.        ],\n",
       "       [ 28.        ,  38.        ,   0.95164161,   2.        ],\n",
       "       [  4.        ,  67.        ,   0.95294663,   3.        ],\n",
       "       [ 16.        ,  72.        ,   0.9595548 ,   4.        ],\n",
       "       [ 69.        ,  76.        ,   0.96158158,   5.        ],\n",
       "       [ 11.        ,  33.        ,   0.97566427,   2.        ],\n",
       "       [ 27.        ,  79.        ,   0.97740201,   3.        ],\n",
       "       [ 23.        ,  82.        ,   0.99331399,   5.        ],\n",
       "       [  3.        ,  77.        ,   0.99786911,   5.        ],\n",
       "       [ 25.        ,  39.        ,   1.00141064,   2.        ],\n",
       "       [ 50.        ,  73.        ,   1.00524963,   3.        ],\n",
       "       [ 75.        ,  78.        ,   1.01130797,   8.        ],\n",
       "       [ 15.        ,  83.        ,   1.03345971,   6.        ],\n",
       "       [ 14.        ,  22.        ,   1.04058548,   2.        ],\n",
       "       [ 58.        ,  74.        ,   1.04108743,   5.        ],\n",
       "       [ 47.        ,  84.        ,   1.04435325,   3.        ],\n",
       "       [ 87.        ,  91.        ,   1.05365594,  11.        ],\n",
       "       [ 86.        ,  93.        ,   1.0581736 ,  10.        ],\n",
       "       [  2.        ,  17.        ,   1.06751133,   2.        ],\n",
       "       [ 80.        ,  85.        ,   1.08256519,   5.        ],\n",
       "       [ 88.        ,  90.        ,   1.09035689,  10.        ],\n",
       "       [ 92.        ,  94.        ,   1.10877069,   5.        ],\n",
       "       [ 30.        ,  31.        ,   1.11161487,   2.        ],\n",
       "       [ 35.        ,  96.        ,   1.11559672,  11.        ],\n",
       "       [ 20.        ,  56.        ,   1.12249023,   2.        ],\n",
       "       [ 54.        ,  81.        ,   1.13818119,   4.        ],\n",
       "       [ 41.        ,  98.        ,   1.14363871,   6.        ],\n",
       "       [ 89.        , 100.        ,   1.15395996,   8.        ],\n",
       "       [103.        , 105.        ,   1.16173517,   8.        ],\n",
       "       [ 59.        ,  97.        ,   1.16210213,   3.        ],\n",
       "       [ 95.        , 102.        ,   1.1659596 ,  22.        ],\n",
       "       [ 99.        , 101.        ,   1.16654463,  12.        ],\n",
       "       [ 53.        , 109.        ,   1.17006356,  23.        ],\n",
       "       [  1.        , 111.        ,   1.19093094,  24.        ],\n",
       "       [  0.        , 106.        ,   1.19539219,   9.        ],\n",
       "       [104.        , 110.        ,   1.20338815,  16.        ],\n",
       "       [108.        , 112.        ,   1.23651064,  27.        ],\n",
       "       [113.        , 115.        ,   1.24673846,  36.        ],\n",
       "       [107.        , 114.        ,   1.26252729,  24.        ],\n",
       "       [116.        , 117.        ,   1.31619005,  60.        ]])"
      ]
     },
     "execution_count": 44,
     "metadata": {},
     "output_type": "execute_result"
    }
   ],
   "source": [
    "mergings = linkage(movements_normalized, method='complete')\n",
    "mergings"
   ]
  },
  {
   "cell_type": "markdown",
   "metadata": {},
   "source": [
    "**Step 5:** Plot a dendrogram of the hierarchical clustering, using the list `companies` of company names as the `labels`. In addition, specify the `leaf_rotation=90`, and `leaf_font_size=10` keyword arguments as you did in the previous exercise."
   ]
  },
  {
   "cell_type": "code",
   "execution_count": 50,
   "metadata": {},
   "outputs": [
    {
     "data": {
      "image/png": "[encoded data removed]",
      "text/plain": [
       "<Figure size 1080x504 with 1 Axes>"
      ]
     },
     "metadata": {
      "needs_background": "light"
     },
     "output_type": "display_data"
    }
   ],
   "source": [
    "fig = plt.figure(figsize=(15, 7))\n",
    "dendrogram_figure = dendrogram(mergings, leaf_rotation=90, leaf_font_size=10)\n"
   ]
  }
 ],
 "metadata": {
  "kernelspec": {
   "display_name": "Python 3",
   "language": "python",
   "name": "python3"
  },
  "language_info": {
   "codemirror_mode": {
    "name": "ipython",
    "version": 3
   },
   "file_extension": ".py",
   "mimetype": "text/x-python",
   "name": "python",
   "nbconvert_exporter": "python",
   "pygments_lexer": "ipython3",
   "version": "3.8.12"
  }
 },
 "nbformat": 4,
 "nbformat_minor": 2
}
