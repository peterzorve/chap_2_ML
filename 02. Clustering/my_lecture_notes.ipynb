{
 "cells": [
  {
   "cell_type": "code",
   "execution_count": 1,
   "metadata": {},
   "outputs": [
    {
     "data": {
      "text/plain": [
       "'  \\nCLASSICAL MACHINE LEARNING \\n\\n     1. Supervised \\n          a. Classification \\n          b. Regression \\n\\n     2. Unsupervised\\n          a. Clustering\\n          b. Dimension Reduction \\n          c. Association \\n'"
      ]
     },
     "execution_count": 1,
     "metadata": {},
     "output_type": "execute_result"
    }
   ],
   "source": [
    "\"\"\"  \n",
    "CLASSICAL MACHINE LEARNING \n",
    "\n",
    "     1. Supervised \n",
    "          a. Classification \n",
    "          b. Regression \n",
    "\n",
    "     2. Unsupervised\n",
    "          a. Clustering\n",
    "          b. Dimension Reduction \n",
    "          c. Association \n",
    "\n",
    "Distance CLustering:\n",
    "     Object in the same group are more likely to have shorter distance \n",
    "\n",
    "Properties of Distance Measure \n",
    "     1. D(A,B) == D(B,A)                     Simmetry \n",
    "     2. D(A,A) == 0                          Awareness of sel-similarities \n",
    "     3. D(A,B) == 0, if and only if A == B   Positive Separation \n",
    "     4. D(A,B) <= D(A,C) + D(B,C)            Triangular Inequality \n",
    "\n",
    "Type of Distances \n",
    "     1. Euclidean distance. \n",
    "          GIven the point (4, 3), the Euclidean Dis = sqrt(4**2 + 3**2) = 5\n",
    "     2. Manhattan distance \n",
    "          4 + 3 = 5 \n",
    "     3. 'sup' disance \n",
    "          max{4, 3} = 4\n",
    "\n",
    "Types of Clustering Algorithms\n",
    "     1. Hierarchical algorithms\n",
    "          a. Bottom-up'\n",
    "          b. Top-down \n",
    "     2. Partitional algorithms \n",
    "          a. Usually starts with a random (partial) partitioning \n",
    "          b. Refine it iteratively \n",
    "               Means clustering\n",
    "               Mixture-model based clustering \n",
    "\n",
    "Computing SImilarities Between Two clusters with multiple instances \n",
    "     1. Single Link \n",
    "     2. Complete Link\n",
    "     3. Group Average \n",
    "     4. Centroid  \n",
    "\"\"\""
   ]
  },
  {
   "cell_type": "code",
   "execution_count": null,
   "metadata": {},
   "outputs": [],
   "source": []
  },
  {
   "cell_type": "code",
   "execution_count": null,
   "metadata": {},
   "outputs": [],
   "source": []
  },
  {
   "cell_type": "code",
   "execution_count": null,
   "metadata": {},
   "outputs": [],
   "source": []
  },
  {
   "cell_type": "code",
   "execution_count": null,
   "metadata": {},
   "outputs": [],
   "source": []
  },
  {
   "cell_type": "code",
   "execution_count": null,
   "metadata": {},
   "outputs": [],
   "source": []
  },
  {
   "cell_type": "code",
   "execution_count": null,
   "metadata": {},
   "outputs": [],
   "source": []
  },
  {
   "cell_type": "code",
   "execution_count": null,
   "metadata": {},
   "outputs": [],
   "source": []
  },
  {
   "cell_type": "code",
   "execution_count": null,
   "metadata": {},
   "outputs": [],
   "source": []
  },
  {
   "cell_type": "code",
   "execution_count": null,
   "metadata": {},
   "outputs": [],
   "source": []
  },
  {
   "cell_type": "code",
   "execution_count": null,
   "metadata": {},
   "outputs": [],
   "source": []
  },
  {
   "cell_type": "code",
   "execution_count": null,
   "metadata": {},
   "outputs": [],
   "source": []
  },
  {
   "cell_type": "code",
   "execution_count": null,
   "metadata": {},
   "outputs": [],
   "source": []
  },
  {
   "cell_type": "code",
   "execution_count": null,
   "metadata": {},
   "outputs": [],
   "source": []
  },
  {
   "cell_type": "code",
   "execution_count": null,
   "metadata": {},
   "outputs": [],
   "source": []
  },
  {
   "cell_type": "code",
   "execution_count": null,
   "metadata": {},
   "outputs": [],
   "source": []
  },
  {
   "cell_type": "code",
   "execution_count": null,
   "metadata": {},
   "outputs": [],
   "source": []
  },
  {
   "cell_type": "code",
   "execution_count": null,
   "metadata": {},
   "outputs": [],
   "source": []
  }
 ],
 "metadata": {
  "interpreter": {
   "hash": "97b91b6d5003af60c654b6abfe8ac1e5d274e52e67a717d7df64331168b10d1c"
  },
  "kernelspec": {
   "display_name": "Python 3.8.12 ('pz')",
   "language": "python",
   "name": "python3"
  },
  "language_info": {
   "codemirror_mode": {
    "name": "ipython",
    "version": 3
   },
   "file_extension": ".py",
   "mimetype": "text/x-python",
   "name": "python",
   "nbconvert_exporter": "python",
   "pygments_lexer": "ipython3",
   "version": "3.8.12"
  },
  "orig_nbformat": 4
 },
 "nbformat": 4,
 "nbformat_minor": 2
}
