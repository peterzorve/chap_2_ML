{
 "cells": [
  {
   "cell_type": "markdown",
   "metadata": {},
   "source": [
    "# KNN From Scratch\n",
    "\n",
    "In this workbook we will guide you through the steps to implement KNN from scratch. Once this is done you'll implement you solution in a class that is tested with the knn_class_tester notebook.\n",
    "\n",
    "1. Use the ```make_blobs``` function from SKLearn to make a dataset to test your KNN functions.\n",
    "2. Create helper functions. These will be useful when you go to implement your class.\n",
    "    - Squaring the difference of two vectors.\n",
    "    - Summing the square differences and returning the square root.\n",
    "    - Calculating the euclidian distances\n",
    "    - An evaluation function to evalaute predictions\n",
    "3. Create the KNN predcit function"
   ]
  },
  {
   "cell_type": "code",
   "execution_count": 15,
   "metadata": {},
   "outputs": [
    {
     "data": {
      "text/plain": [
       "'The previous line was modified'"
      ]
     },
     "execution_count": 15,
     "metadata": {},
     "output_type": "execute_result"
    }
   ],
   "source": [
    "#import libraries\n",
    "import numpy as np\n",
    "from collections import Counter\n",
    "import matplotlib.pyplot as plt\n",
    "#from sklearn.datasets.samples_generator import make_blobs\n",
    "\n",
    "from sklearn.datasets import make_blobs  \n",
    "\"\"\"The previous line was modified\"\"\"\n",
    "\n"
   ]
  },
  {
   "cell_type": "markdown",
   "metadata": {},
   "source": [
    "### Step 1: Create a sample dataset\n",
    "1. Use ```make_blobs``` to create a sample set\n",
    "2. Start with 300 samples, 4 centres, 0.6 standard deviation, and random state 0\n",
    "3. Plot the samples"
   ]
  },
  {
   "cell_type": "code",
   "execution_count": 16,
   "metadata": {},
   "outputs": [],
   "source": [
    "#make the dataset with make_blobs\n",
    "X,y = make_blobs(n_samples=300, centers=4, cluster_std=0.6, random_state=0)\n"
   ]
  },
  {
   "cell_type": "markdown",
   "metadata": {},
   "source": [
    "# Step 2: Creating the KNN function\n",
    "Pseudocode below to help out! Note: **IT IS NOT ACTUAL CODE**"
   ]
  },
  {
   "cell_type": "code",
   "execution_count": 35,
   "metadata": {},
   "outputs": [
    {
     "data": {
      "text/plain": [
       "1.0"
      ]
     },
     "execution_count": 35,
     "metadata": {},
     "output_type": "execute_result"
    }
   ],
   "source": [
    "# define train test split\n",
    "#X_train\n",
    "#X_test\n",
    "#y_train\n",
    "#y_test\n",
    "\n",
    "\"\"\" Spliting the Data \"\"\"\n",
    "from sklearn.model_selection import train_test_split\n",
    "X_train, X_test, y_train, y_test = train_test_split(X, y, test_size=0.7)\n",
    "\n",
    "\n",
    "\"\"\" Importing and Defining the Model \"\"\"\n",
    "from sklearn.neighbors import KNeighborsClassifier\n",
    "knn_model = KNeighborsClassifier(n_neighbors=3)\n",
    "\n",
    "\"\"\" Fitting the Train Data \"\"\"\n",
    "knn_model.fit(X_train, y_train)\n",
    "\n",
    "\"\"\" Making Prediction \"\"\"\n",
    "prediction = knn_model.predict(X_test)\n",
    "\n",
    "\"\"\" Checking the Accuracy \"\"\"\n",
    "knn_model.score(X_test, prediction)\n",
    "\n",
    "# knn_model.score(X_train, y_train)"
   ]
  },
  {
   "cell_type": "code",
   "execution_count": 59,
   "metadata": {},
   "outputs": [
    {
     "data": {
      "text/plain": [
       "5.66"
      ]
     },
     "execution_count": 59,
     "metadata": {},
     "output_type": "execute_result"
    }
   ],
   "source": [
    "def get_eucledian_distance(v1,v2):\n",
    "\n",
    "    v1 = np.array(v1)\n",
    "    v2 = np.array(v2)\n",
    "\n",
    "    distance = v1 - v2\n",
    "    distance = distance**2\n",
    "    distance = np.sum(distance)\n",
    "    distance = np.sqrt(distance)\n",
    "\n",
    "    return round(distance, 2)\n",
    "\n",
    "v1 = [4, 0]\n",
    "v2 = [0, 4]\n",
    "\n",
    "get_eucledian_distance(v1, v2)"
   ]
  },
  {
   "cell_type": "code",
   "execution_count": null,
   "metadata": {},
   "outputs": [],
   "source": [
    "#def get_all_distances(X_train, X_test)\n",
    "\n",
    "elu_distance = []\n",
    "firstList = []\n",
    "secondList = []\n",
    "\n",
    "for v1 in X_test:\n",
    "     for v2 in X_train:\n",
    "          distance = v1 - v2\n",
    "          distance = distance**2   \n",
    "          distance = np.sum(distance)\n",
    "          distance = round(np.sqrt(distance), 2)\n",
    "          firstList.append(distance)\n",
    "          neighbour_3 = firstList[0:3]\n",
    "          \n",
    "          #secondList.append(neighbour_3)\n",
    "     \n",
    "\n",
    "\n",
    "          # distance = distance.sort()\n",
    "          # elu_distance.append(distance)\n",
    "\n",
    "print(secondList)\n",
    "#print(elu_distance)\n",
    "\n"
   ]
  },
  {
   "cell_type": "code",
   "execution_count": null,
   "metadata": {},
   "outputs": [],
   "source": [
    "def select_neighbours(dist_list, k):\n",
    "    sl = sort(dist_list, by: distance)\n",
    "    return 0 to k elements from list (slice)\n",
    "    "
   ]
  },
  {
   "cell_type": "code",
   "execution_count": null,
   "metadata": {},
   "outputs": [],
   "source": [
    "def predict(final_n, y_train):\n",
    "    access the index from my sliced_sorted_list\n",
    "    get the y_train label corresponding to that index\n",
    "    return most_common label among the list"
   ]
  },
  {
   "cell_type": "code",
   "execution_count": 7,
   "metadata": {},
   "outputs": [],
   "source": [
    "def KNN function (X_train, X_test, y_train, y_test, k)\n",
    "    # given a vector, [2.5, 4.56, 2]\n",
    "    # sample X_train : [2.5,4.56] = x1,x2\n",
    "    # search with same index: y_train = 2\n",
    "    \n",
    "    # rember to do it for all X_test vectors\n",
    "    # CASE: ONE SINGLE X_train vector:\n",
    "    dist_list = []\n",
    "    for vector in X_train:\n",
    "        # result = my get_distance function\n",
    "        dist_list.append(result, index)\n",
    "    final_n = select_neighbours(dist_list, k)\n",
    "    ypred = predict(final_n, y_train)\n",
    "    score... --> using sklearn.metrics\n",
    "    or comparing 1 by 1 (ypred - ytest)\n",
    "    plot... do it inside in a separate function or outside. \n",
    "    \n",
    "        "
   ]
  },
  {
   "cell_type": "markdown",
   "metadata": {},
   "source": [
    "# OOP for KNN"
   ]
  },
  {
   "cell_type": "code",
   "execution_count": null,
   "metadata": {},
   "outputs": [],
   "source": [
    "class KNN:\n",
    "     def __init__(self, distance, neighbours,): \n",
    "          self.distance = distance\n",
    "          self.neighbours = neighbours\n",
    "\n",
    "     def load_data(self, data):\n",
    "          self.data = data \n",
    "\n",
    "          \n",
    "\n",
    "     def split_data(self, data, testSize): \n",
    "          self.data = data \n",
    "          self.testSize = testSize \n",
    "\n",
    "          X_train, X_test, y_train, y_test = train_test_split(X, y, test_size=testSize)\n",
    "\n",
    "from sklearn.model_selection import train_test_split\n",
    ")\n",
    "\n",
    "\n",
    "\"\"\" Importing and Defining the Model \"\"\"\n",
    "from sklearn.neighbors import KNeighborsClassifier\n",
    "knn_model = KNeighborsClassifier(n_neighbors=3)\n",
    "\n",
    "\"\"\" Fitting the Train Data \"\"\"\n",
    "knn_model.fit(X_train, y_train)\n",
    "\n",
    "\"\"\" Making Prediction \"\"\"\n",
    "prediction = knn_model.predict(X_test)\n",
    "\n",
    "\"\"\" Checking the Accuracy \"\"\"\n",
    "knn_model.score(X_test, prediction)\n",
    "\n",
    "     "
   ]
  }
 ],
 "metadata": {
  "kernelspec": {
   "display_name": "Python 3",
   "language": "python",
   "name": "python3"
  },
  "language_info": {
   "codemirror_mode": {
    "name": "ipython",
    "version": 3
   },
   "file_extension": ".py",
   "mimetype": "text/x-python",
   "name": "python",
   "nbconvert_exporter": "python",
   "pygments_lexer": "ipython3",
   "version": "3.8.12"
  },
  "varInspector": {
   "cols": {
    "lenName": 16,
    "lenType": 16,
    "lenVar": 40
   },
   "kernels_config": {
    "python": {
     "delete_cmd_postfix": "",
     "delete_cmd_prefix": "del ",
     "library": "var_list.py",
     "varRefreshCmd": "print(var_dic_list())"
    },
    "r": {
     "delete_cmd_postfix": ") ",
     "delete_cmd_prefix": "rm(",
     "library": "var_list.r",
     "varRefreshCmd": "cat(var_dic_list()) "
    }
   },
   "types_to_exclude": [
    "module",
    "function",
    "builtin_function_or_method",
    "instance",
    "_Feature"
   ],
   "window_display": false
  }
 },
 "nbformat": 4,
 "nbformat_minor": 4
}
